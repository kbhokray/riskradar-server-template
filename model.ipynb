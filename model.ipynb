{
 "cells": [
  {
   "cell_type": "code",
   "execution_count": 1,
   "metadata": {},
   "outputs": [],
   "source": [
    "import pandas as pd\n",
    "import numpy as np"
   ]
  },
  {
   "cell_type": "code",
   "execution_count": 2,
   "metadata": {},
   "outputs": [],
   "source": [
    "df = pd.read_csv(\"data/UCI_Credit_Card.csv\")"
   ]
  },
  {
   "cell_type": "markdown",
   "metadata": {},
   "source": [
    "### About Dataset\n",
    "\n",
    "This dataset contains information on **default payments** of credit card clients in Taiwan covering a six month period from April 2005 to September 2005. It includes columns with insights about the clients' demographic characteristics, payment histories, and credit behavior\n",
    "\n",
    "##### Demographic Variables\n",
    "- `USER_ID`: Unique identifier for each client.\n",
    "\n",
    "- `CREDIT_LIMIT`: Credit limit in NT dollars (includes individual and family/supplementary credit).\n",
    "\n",
    "- `SEX`: Gender of the client (1 = Male, 2 = Female).\n",
    "\n",
    "- `EDUCATION`: Educational background of the client:\n",
    "  - 1 = Graduate School\n",
    "  - 2 = University\n",
    "  - 3 = High School\n",
    "  - 4 = Others\n",
    "\n",
    "- `MARITALSTATUS`: Marital status of the client (1 = Married, 2 = Single, 3 = Others).\n",
    "\n",
    "- `AGE`: Age of the client in years.\n",
    "\n",
    "\n",
    "##### Billing and Payment Variables\n",
    "- `BILL_AMTx`: Amount of bill statement (NT dollar)\n",
    "  - `BILL_AMT1` - `BILL_AMT6`: Amount of bill statement in September - April, 2005\n",
    "\n",
    "\n",
    "- `PAYMENTDELAY_1` to `PAYMENTDELAY_6`: Monthly repayment status from August 2005 to April 2005 (reverse chronological order).\n",
    "  - `PAYMENTDELAY_x`: Repayment status where\n",
    "    - -1 = Payment made on time\n",
    "    - 1 = Payment delayed for 1 month\n",
    "    - 2 = Payment delayed for 2 months\n",
    "    - …\n",
    "    - 8 = Delay of 8 months\n",
    "    - 9 = Delay of 9 months or more\n",
    "\n",
    "- `PAID_AMTx`: Amount of previous payment (NT dollar)\n",
    "  - `PAID_AMT1` - `PAID_AMT6`: Amount of previous payment in September - April, 2005\n",
    "\n",
    "##### Target Variable\n",
    "- `DID_DEFAULT_PAYMENT`: Whether the client defaulted on payment in the next month (1 = Yes, 0 = No)"
   ]
  },
  {
   "cell_type": "code",
   "execution_count": 3,
   "metadata": {},
   "outputs": [
    {
     "data": {
      "text/html": [
       "<div>\n",
       "<style scoped>\n",
       "    .dataframe tbody tr th:only-of-type {\n",
       "        vertical-align: middle;\n",
       "    }\n",
       "\n",
       "    .dataframe tbody tr th {\n",
       "        vertical-align: top;\n",
       "    }\n",
       "\n",
       "    .dataframe thead th {\n",
       "        text-align: right;\n",
       "    }\n",
       "</style>\n",
       "<table border=\"1\" class=\"dataframe\">\n",
       "  <thead>\n",
       "    <tr style=\"text-align: right;\">\n",
       "      <th></th>\n",
       "      <th>USER_ID</th>\n",
       "      <th>CREDIT_LIMIT</th>\n",
       "      <th>SEX</th>\n",
       "      <th>EDUCATION</th>\n",
       "      <th>MARITALSTATUS</th>\n",
       "      <th>AGE</th>\n",
       "      <th>PAYMENTDELAY_1</th>\n",
       "      <th>PAYMENTDELAY_2</th>\n",
       "      <th>PAYMENTDELAY_3</th>\n",
       "      <th>PAYMENTDELAY_4</th>\n",
       "      <th>...</th>\n",
       "      <th>BILL_AMT4</th>\n",
       "      <th>BILL_AMT5</th>\n",
       "      <th>BILL_AMT6</th>\n",
       "      <th>PAID_AMT1</th>\n",
       "      <th>PAID_AMT2</th>\n",
       "      <th>PAID_AMT3</th>\n",
       "      <th>PAID_AMT4</th>\n",
       "      <th>PAID_AMT5</th>\n",
       "      <th>PAID_AMT6</th>\n",
       "      <th>DID_DEFAULT_PAYMENT</th>\n",
       "    </tr>\n",
       "  </thead>\n",
       "  <tbody>\n",
       "    <tr>\n",
       "      <th>0</th>\n",
       "      <td>1</td>\n",
       "      <td>20000.0</td>\n",
       "      <td>2</td>\n",
       "      <td>2</td>\n",
       "      <td>1</td>\n",
       "      <td>24</td>\n",
       "      <td>2</td>\n",
       "      <td>2</td>\n",
       "      <td>0</td>\n",
       "      <td>0</td>\n",
       "      <td>...</td>\n",
       "      <td>0.0</td>\n",
       "      <td>0.0</td>\n",
       "      <td>0.0</td>\n",
       "      <td>0.0</td>\n",
       "      <td>689.0</td>\n",
       "      <td>0.0</td>\n",
       "      <td>0.0</td>\n",
       "      <td>0.0</td>\n",
       "      <td>0.0</td>\n",
       "      <td>1</td>\n",
       "    </tr>\n",
       "    <tr>\n",
       "      <th>1</th>\n",
       "      <td>2</td>\n",
       "      <td>120000.0</td>\n",
       "      <td>2</td>\n",
       "      <td>2</td>\n",
       "      <td>2</td>\n",
       "      <td>26</td>\n",
       "      <td>0</td>\n",
       "      <td>2</td>\n",
       "      <td>0</td>\n",
       "      <td>0</td>\n",
       "      <td>...</td>\n",
       "      <td>3272.0</td>\n",
       "      <td>3455.0</td>\n",
       "      <td>3261.0</td>\n",
       "      <td>0.0</td>\n",
       "      <td>1000.0</td>\n",
       "      <td>1000.0</td>\n",
       "      <td>1000.0</td>\n",
       "      <td>0.0</td>\n",
       "      <td>2000.0</td>\n",
       "      <td>1</td>\n",
       "    </tr>\n",
       "    <tr>\n",
       "      <th>2</th>\n",
       "      <td>3</td>\n",
       "      <td>90000.0</td>\n",
       "      <td>2</td>\n",
       "      <td>2</td>\n",
       "      <td>2</td>\n",
       "      <td>34</td>\n",
       "      <td>0</td>\n",
       "      <td>0</td>\n",
       "      <td>0</td>\n",
       "      <td>0</td>\n",
       "      <td>...</td>\n",
       "      <td>14331.0</td>\n",
       "      <td>14948.0</td>\n",
       "      <td>15549.0</td>\n",
       "      <td>1518.0</td>\n",
       "      <td>1500.0</td>\n",
       "      <td>1000.0</td>\n",
       "      <td>1000.0</td>\n",
       "      <td>1000.0</td>\n",
       "      <td>5000.0</td>\n",
       "      <td>0</td>\n",
       "    </tr>\n",
       "    <tr>\n",
       "      <th>3</th>\n",
       "      <td>4</td>\n",
       "      <td>50000.0</td>\n",
       "      <td>2</td>\n",
       "      <td>2</td>\n",
       "      <td>1</td>\n",
       "      <td>37</td>\n",
       "      <td>0</td>\n",
       "      <td>0</td>\n",
       "      <td>0</td>\n",
       "      <td>0</td>\n",
       "      <td>...</td>\n",
       "      <td>28314.0</td>\n",
       "      <td>28959.0</td>\n",
       "      <td>29547.0</td>\n",
       "      <td>2000.0</td>\n",
       "      <td>2019.0</td>\n",
       "      <td>1200.0</td>\n",
       "      <td>1100.0</td>\n",
       "      <td>1069.0</td>\n",
       "      <td>1000.0</td>\n",
       "      <td>0</td>\n",
       "    </tr>\n",
       "    <tr>\n",
       "      <th>4</th>\n",
       "      <td>5</td>\n",
       "      <td>50000.0</td>\n",
       "      <td>1</td>\n",
       "      <td>2</td>\n",
       "      <td>1</td>\n",
       "      <td>57</td>\n",
       "      <td>0</td>\n",
       "      <td>0</td>\n",
       "      <td>0</td>\n",
       "      <td>0</td>\n",
       "      <td>...</td>\n",
       "      <td>20940.0</td>\n",
       "      <td>19146.0</td>\n",
       "      <td>19131.0</td>\n",
       "      <td>2000.0</td>\n",
       "      <td>36681.0</td>\n",
       "      <td>10000.0</td>\n",
       "      <td>9000.0</td>\n",
       "      <td>689.0</td>\n",
       "      <td>679.0</td>\n",
       "      <td>0</td>\n",
       "    </tr>\n",
       "  </tbody>\n",
       "</table>\n",
       "<p>5 rows × 25 columns</p>\n",
       "</div>"
      ],
      "text/plain": [
       "   USER_ID  CREDIT_LIMIT  SEX  EDUCATION  MARITALSTATUS  AGE  PAYMENTDELAY_1  \\\n",
       "0        1       20000.0    2          2              1   24               2   \n",
       "1        2      120000.0    2          2              2   26               0   \n",
       "2        3       90000.0    2          2              2   34               0   \n",
       "3        4       50000.0    2          2              1   37               0   \n",
       "4        5       50000.0    1          2              1   57               0   \n",
       "\n",
       "   PAYMENTDELAY_2  PAYMENTDELAY_3  PAYMENTDELAY_4  ...  BILL_AMT4  BILL_AMT5  \\\n",
       "0               2               0               0  ...        0.0        0.0   \n",
       "1               2               0               0  ...     3272.0     3455.0   \n",
       "2               0               0               0  ...    14331.0    14948.0   \n",
       "3               0               0               0  ...    28314.0    28959.0   \n",
       "4               0               0               0  ...    20940.0    19146.0   \n",
       "\n",
       "   BILL_AMT6  PAID_AMT1  PAID_AMT2  PAID_AMT3  PAID_AMT4  PAID_AMT5  \\\n",
       "0        0.0        0.0      689.0        0.0        0.0        0.0   \n",
       "1     3261.0        0.0     1000.0     1000.0     1000.0        0.0   \n",
       "2    15549.0     1518.0     1500.0     1000.0     1000.0     1000.0   \n",
       "3    29547.0     2000.0     2019.0     1200.0     1100.0     1069.0   \n",
       "4    19131.0     2000.0    36681.0    10000.0     9000.0      689.0   \n",
       "\n",
       "   PAID_AMT6  DID_DEFAULT_PAYMENT  \n",
       "0        0.0                    1  \n",
       "1     2000.0                    1  \n",
       "2     5000.0                    0  \n",
       "3     1000.0                    0  \n",
       "4      679.0                    0  \n",
       "\n",
       "[5 rows x 25 columns]"
      ]
     },
     "execution_count": 3,
     "metadata": {},
     "output_type": "execute_result"
    }
   ],
   "source": [
    "df.head()"
   ]
  },
  {
   "cell_type": "code",
   "execution_count": 4,
   "metadata": {},
   "outputs": [
    {
     "name": "stdout",
     "output_type": "stream",
     "text": [
      "<class 'pandas.core.frame.DataFrame'>\n",
      "RangeIndex: 30000 entries, 0 to 29999\n",
      "Data columns (total 25 columns):\n",
      " #   Column               Non-Null Count  Dtype  \n",
      "---  ------               --------------  -----  \n",
      " 0   USER_ID              30000 non-null  int64  \n",
      " 1   CREDIT_LIMIT         30000 non-null  float64\n",
      " 2   SEX                  30000 non-null  int64  \n",
      " 3   EDUCATION            30000 non-null  int64  \n",
      " 4   MARITALSTATUS        30000 non-null  int64  \n",
      " 5   AGE                  30000 non-null  int64  \n",
      " 6   PAYMENTDELAY_1       30000 non-null  int64  \n",
      " 7   PAYMENTDELAY_2       30000 non-null  int64  \n",
      " 8   PAYMENTDELAY_3       30000 non-null  int64  \n",
      " 9   PAYMENTDELAY_4       30000 non-null  int64  \n",
      " 10  PAYMENTDELAY_5       30000 non-null  int64  \n",
      " 11  PAYMENTDELAY_6       30000 non-null  int64  \n",
      " 12  BILL_AMT1            30000 non-null  float64\n",
      " 13  BILL_AMT2            30000 non-null  float64\n",
      " 14  BILL_AMT3            30000 non-null  float64\n",
      " 15  BILL_AMT4            30000 non-null  float64\n",
      " 16  BILL_AMT5            30000 non-null  float64\n",
      " 17  BILL_AMT6            30000 non-null  float64\n",
      " 18  PAID_AMT1            30000 non-null  float64\n",
      " 19  PAID_AMT2            30000 non-null  float64\n",
      " 20  PAID_AMT3            30000 non-null  float64\n",
      " 21  PAID_AMT4            30000 non-null  float64\n",
      " 22  PAID_AMT5            30000 non-null  float64\n",
      " 23  PAID_AMT6            30000 non-null  float64\n",
      " 24  DID_DEFAULT_PAYMENT  30000 non-null  int64  \n",
      "dtypes: float64(13), int64(12)\n",
      "memory usage: 5.7 MB\n"
     ]
    }
   ],
   "source": [
    "df.info()"
   ]
  },
  {
   "cell_type": "markdown",
   "metadata": {},
   "source": [
    "### Training\n",
    "Since the dataset is about credit defaults, we will train a classifier that can predict whether a client will default on their payment in the next month. The performance of the model will be evaluated using the Accuracy and F1 Score of the model"
   ]
  },
  {
   "cell_type": "code",
   "execution_count": 5,
   "metadata": {},
   "outputs": [],
   "source": [
    "from sklearn.tree import DecisionTreeClassifier\n",
    "from sklearn.model_selection import train_test_split\n",
    "from sklearn.model_selection import GridSearchCV"
   ]
  },
  {
   "cell_type": "code",
   "execution_count": 6,
   "metadata": {},
   "outputs": [],
   "source": [
    "# Segregate the data into features and target variables\n",
    "\n",
    "target_col = [\"DID_DEFAULT_PAYMENT\"]\n",
    "feature_cols = [\n",
    "    \"CREDIT_LIMIT\",\n",
    "    \"SEX\",\n",
    "    \"EDUCATION\",\n",
    "    \"MARITALSTATUS\",\n",
    "    \"AGE\",\n",
    "    \"PAYMENTDELAY_1\",\n",
    "    \"PAYMENTDELAY_2\",\n",
    "    \"PAYMENTDELAY_3\",\n",
    "    \"PAYMENTDELAY_4\",\n",
    "    \"PAYMENTDELAY_5\",\n",
    "    \"PAYMENTDELAY_6\",\n",
    "    \"BILL_AMT1\",\n",
    "    \"BILL_AMT2\",\n",
    "    \"BILL_AMT3\",\n",
    "    \"BILL_AMT4\",\n",
    "    \"BILL_AMT5\",\n",
    "    \"BILL_AMT6\",\n",
    "    \"PAID_AMT1\",\n",
    "    \"PAID_AMT2\",\n",
    "    \"PAID_AMT3\",\n",
    "    \"PAID_AMT4\",\n",
    "    \"PAID_AMT5\",\n",
    "    \"PAID_AMT6\",\n",
    "]\n",
    "\n",
    "\n",
    "X = df[feature_cols]\n",
    "y = df[target_col]"
   ]
  },
  {
   "cell_type": "code",
   "execution_count": 7,
   "metadata": {},
   "outputs": [],
   "source": [
    "# Split the data into training and test sets\n",
    "\n",
    "X_train, X_test, y_train, y_test = train_test_split(X, y, random_state=42, test_size=0.2)"
   ]
  },
  {
   "cell_type": "code",
   "execution_count": 10,
   "metadata": {},
   "outputs": [
    {
     "name": "stdout",
     "output_type": "stream",
     "text": [
      "Best Estimator: DecisionTreeClassifier(max_depth=np.int64(4), max_leaf_nodes=10)\n",
      "Best Accuracy: 0.8203750000000001\n"
     ]
    }
   ],
   "source": [
    "param_grid = {\n",
    "    'max_depth': np.arange(3, 5),\n",
    "    'criterion' : ['gini','entropy'],\n",
    "    'max_leaf_nodes': [5,10],\n",
    "    'min_samples_split': [2, 5]\n",
    "}\n",
    "\n",
    "# Create the grid\n",
    "grid_tree = GridSearchCV(DecisionTreeClassifier(), param_grid, cv = 5, scoring= 'accuracy')\n",
    "\n",
    "# Training\n",
    "grid_tree.fit(X_train, y_train)\n",
    "\n",
    "\n",
    "print(f\"Best Estimator: {grid_tree.best_estimator_}\")\n",
    "print(f\"Best Accuracy: {np.abs(grid_tree.best_score_)}\")"
   ]
  },
  {
   "cell_type": "code",
   "execution_count": 11,
   "metadata": {},
   "outputs": [],
   "source": [
    "single_entry = X_test.sample(n=1)"
   ]
  },
  {
   "cell_type": "code",
   "execution_count": 19,
   "metadata": {},
   "outputs": [
    {
     "name": "stdout",
     "output_type": "stream",
     "text": [
      "[[0.89242036 0.10757964]]\n"
     ]
    }
   ],
   "source": [
    "grid_tree.best_estimator_.predict(single_entry)\n",
    "probs = grid_tree.best_estimator_.predict_proba(single_entry)\n",
    "print(probs)"
   ]
  },
  {
   "cell_type": "markdown",
   "metadata": {},
   "source": [
    "### Model Export\n",
    "Now that the classifier is trained, the next step is to deploy it within a Python service. To do this, we will export the trained model as a joblib file. By saving it in pickle format, we will simplify our inference by enabling quick model loading and reuse without having to do any complex setup process."
   ]
  },
  {
   "cell_type": "code",
   "execution_count": 15,
   "metadata": {},
   "outputs": [],
   "source": [
    "import joblib"
   ]
  },
  {
   "cell_type": "code",
   "execution_count": 16,
   "metadata": {},
   "outputs": [
    {
     "data": {
      "text/plain": [
       "['risk_radar_model']"
      ]
     },
     "execution_count": 16,
     "metadata": {},
     "output_type": "execute_result"
    }
   ],
   "source": [
    "joblib.dump(grid_tree.best_estimator_, \"risk_radar_model\")"
   ]
  },
  {
   "cell_type": "code",
   "execution_count": 17,
   "metadata": {},
   "outputs": [],
   "source": [
    "m = joblib.load(\"risk_radar_model\")"
   ]
  },
  {
   "cell_type": "code",
   "execution_count": 18,
   "metadata": {},
   "outputs": [
    {
     "name": "stdout",
     "output_type": "stream",
     "text": [
      "Prediction: 0, Confidence: 0.8924203588429147\n"
     ]
    }
   ],
   "source": [
    "prediction = m.predict(single_entry).item()\n",
    "probs = m.predict_proba(single_entry)\n",
    "confidence = probs.max(axis=1).item()\n",
    "\n",
    "print(f\"Prediction: {prediction}, Confidence: {confidence}\")"
   ]
  },
  {
   "cell_type": "code",
   "execution_count": 20,
   "metadata": {},
   "outputs": [
    {
     "data": {
      "text/plain": [
       "[{'CREDIT_LIMIT': 500000.0,\n",
       "  'SEX': 1,\n",
       "  'EDUCATION': 3,\n",
       "  'MARITALSTATUS': 1,\n",
       "  'AGE': 47,\n",
       "  'PAYMENTDELAY_1': 0,\n",
       "  'PAYMENTDELAY_2': 0,\n",
       "  'PAYMENTDELAY_3': 0,\n",
       "  'PAYMENTDELAY_4': 0,\n",
       "  'PAYMENTDELAY_5': 0,\n",
       "  'PAYMENTDELAY_6': 0,\n",
       "  'BILL_AMT1': 18033.0,\n",
       "  'BILL_AMT2': 8783.0,\n",
       "  'BILL_AMT3': 13202.0,\n",
       "  'BILL_AMT4': 16546.0,\n",
       "  'BILL_AMT5': 12585.0,\n",
       "  'BILL_AMT6': 14287.0,\n",
       "  'PAID_AMT1': 8783.0,\n",
       "  'PAID_AMT2': 13357.0,\n",
       "  'PAID_AMT3': 16600.0,\n",
       "  'PAID_AMT4': 12585.0,\n",
       "  'PAID_AMT5': 14287.0,\n",
       "  'PAID_AMT6': 25793.0}]"
      ]
     },
     "execution_count": 20,
     "metadata": {},
     "output_type": "execute_result"
    }
   ],
   "source": [
    "single_entry.to_dict(orient='records')"
   ]
  }
 ],
 "metadata": {
  "kernelspec": {
   "display_name": "riskradar",
   "language": "python",
   "name": "python3"
  },
  "language_info": {
   "codemirror_mode": {
    "name": "ipython",
    "version": 3
   },
   "file_extension": ".py",
   "mimetype": "text/x-python",
   "name": "python",
   "nbconvert_exporter": "python",
   "pygments_lexer": "ipython3",
   "version": "3.13.0"
  }
 },
 "nbformat": 4,
 "nbformat_minor": 2
}
