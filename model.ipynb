{
 "cells": [
  {
   "cell_type": "code",
   "execution_count": 2,
   "metadata": {},
   "outputs": [],
   "source": [
    "import pandas as pd\n",
    "import numpy as np"
   ]
  },
  {
   "cell_type": "code",
   "execution_count": 3,
   "metadata": {},
   "outputs": [],
   "source": [
    "df = pd.read_csv(\"data/UCI_Credit_Card.csv\")"
   ]
  },
  {
   "cell_type": "markdown",
   "metadata": {},
   "source": [
    "### About Dataset\n",
    "\n",
    "This dataset contains information on **default payments** of credit card clients in Taiwan covering a six month period from April 2005 to September 2005. It includes columns with insights about the clients' demographic characteristics, payment histories, and credit behavior\n",
    "\n",
    "##### Demographic Variables\n",
    "- `USER_ID`: Unique identifier for each client.\n",
    "\n",
    "- `CREDIT_LIMIT`: Credit limit in NT dollars (includes individual and family/supplementary credit).\n",
    "\n",
    "- `SEX`: Gender of the client (1 = Male, 2 = Female).\n",
    "\n",
    "- `EDUCATION`: Educational background of the client:\n",
    "  - 1 = Graduate School\n",
    "  - 2 = University\n",
    "  - 3 = High School\n",
    "  - 4 = Others\n",
    "\n",
    "- `MARITALSTATUS`: Marital status of the client (1 = Married, 2 = Single, 3 = Others).\n",
    "\n",
    "- `AGE`: Age of the client in years.\n",
    "\n",
    "\n",
    "##### Billing and Payment Variables\n",
    "- `BILL_AMTx`: Amount of bill statement (NT dollar)\n",
    "  - `BILL_AMT1` - `BILL_AMT6`: Amount of bill statement in September - April, 2005\n",
    "\n",
    "\n",
    "- `PAYMENTDELAY_1` to `PAYMENTDELAY_6`: Monthly repayment status from August 2005 to April 2005 (reverse chronological order).\n",
    "  - `PAYMENTDELAY_x`: Repayment status where\n",
    "    - -1 = Payment made on time\n",
    "    - 1 = Payment delayed for 1 month\n",
    "    - 2 = Payment delayed for 2 months\n",
    "    - …\n",
    "    - 8 = Delay of 8 months\n",
    "    - 9 = Delay of 9 months or more\n",
    "\n",
    "- `PAID_AMTx`: Amount of previous payment (NT dollar)\n",
    "  - `PAID_AMT1` - `PAID_AMT6`: Amount of previous payment in September - April, 2005\n",
    "\n",
    "##### Target Variable\n",
    "- `DID_DEFAULT_PAYMENT`: Whether the client defaulted on payment in the next month (1 = Yes, 0 = No)"
   ]
  },
  {
   "cell_type": "code",
   "execution_count": null,
   "metadata": {},
   "outputs": [],
   "source": [
    "df.head()"
   ]
  },
  {
   "cell_type": "code",
   "execution_count": null,
   "metadata": {},
   "outputs": [],
   "source": [
    "df.info()"
   ]
  },
  {
   "cell_type": "markdown",
   "metadata": {},
   "source": [
    "### Training\n",
    "Since the dataset is about credit defaults, we will train a classifier that can predict whether a client will default on their payment in the next month. The performance of the model will be evaluated using the Accuracy and F1 Score of the model"
   ]
  },
  {
   "cell_type": "code",
   "execution_count": 6,
   "metadata": {},
   "outputs": [],
   "source": [
    "from sklearn.tree import DecisionTreeClassifier\n",
    "from sklearn.model_selection import train_test_split\n",
    "from sklearn.model_selection import GridSearchCV"
   ]
  },
  {
   "cell_type": "code",
   "execution_count": 7,
   "metadata": {},
   "outputs": [],
   "source": [
    "# Segregate the data into features and target variables\n",
    "\n",
    "target_col = []\n",
    "feature_cols = []\n",
    "\n",
    "\n",
    "X = []\n",
    "y = []"
   ]
  },
  {
   "cell_type": "code",
   "execution_count": 8,
   "metadata": {},
   "outputs": [],
   "source": [
    "# Split the data into training and test sets\n",
    "\n",
    "X_train, X_test, y_train, y_test = ([], [], [], [])"
   ]
  },
  {
   "cell_type": "code",
   "execution_count": null,
   "metadata": {},
   "outputs": [],
   "source": [
    "param_grid = {\n",
    "    'max_depth': np.arange(3, 10),\n",
    "    'criterion' : ['gini','entropy'],\n",
    "    'max_leaf_nodes': [5,10,20,100],\n",
    "    'min_samples_split': [2, 5, 10, 20]\n",
    "}\n",
    "\n",
    "# Create the grid\n",
    "grid_tree = GridSearchCV(DecisionTreeClassifier(), param_grid, cv = 5, scoring= 'accuracy')\n",
    "\n",
    "# Training\n",
    "grid_tree.fit(X_train, y_train)\n",
    "\n",
    "\n",
    "print(f\"Best Estimator: {grid_tree.best_estimator_}\")\n",
    "print(f\"Best Accuracy: {np.abs(grid_tree.best_score_)}\")"
   ]
  },
  {
   "cell_type": "markdown",
   "metadata": {},
   "source": [
    "### Model Export\n",
    "Now that the classifier is trained, the next step is to deploy it within a Python service. To do this, we will export the trained model as a pickle file. By saving it in pickle format, we will simplify our inference by enabling quick model loading and reuse without having to do any complex setup process."
   ]
  },
  {
   "cell_type": "code",
   "execution_count": 16,
   "metadata": {},
   "outputs": [],
   "source": [
    "import joblib"
   ]
  },
  {
   "cell_type": "code",
   "execution_count": null,
   "metadata": {},
   "outputs": [],
   "source": [
    "joblib.dump(grid_tree.best_estimator_, \"risk_radar_model\")"
   ]
  },
  {
   "cell_type": "code",
   "execution_count": 18,
   "metadata": {},
   "outputs": [],
   "source": [
    "m = joblib.load(\"risk_radar_model\")"
   ]
  },
  {
   "cell_type": "code",
   "execution_count": 19,
   "metadata": {},
   "outputs": [],
   "source": [
    "single_entry = X_test.sample(n=1)"
   ]
  },
  {
   "cell_type": "code",
   "execution_count": null,
   "metadata": {},
   "outputs": [],
   "source": [
    "prediction = m.predict(single_entry).item()\n",
    "probs = m.predict_proba(single_entry)\n",
    "confidence = probs.max(axis=1).item()\n",
    "\n",
    "print(f\"Prediction: {prediction}, Confidence: {confidence}\")"
   ]
  },
  {
   "cell_type": "code",
   "execution_count": null,
   "metadata": {},
   "outputs": [],
   "source": [
    "single_entry.to_dict(orient='records')"
   ]
  }
 ],
 "metadata": {
  "kernelspec": {
   "display_name": "riskradar",
   "language": "python",
   "name": "python3"
  },
  "language_info": {
   "codemirror_mode": {
    "name": "ipython",
    "version": 3
   },
   "file_extension": ".py",
   "mimetype": "text/x-python",
   "name": "python",
   "nbconvert_exporter": "python",
   "pygments_lexer": "ipython3",
   "version": "3.13.0"
  }
 },
 "nbformat": 4,
 "nbformat_minor": 2
}
